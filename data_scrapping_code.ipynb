{
 "cells": [
  {
   "cell_type": "code",
   "execution_count": 1,
   "id": "8040eba2",
   "metadata": {},
   "outputs": [],
   "source": [
    "from bs4 import BeautifulSoup\n",
    "from selenium import webdriver\n",
    "from selenium.webdriver.common.keys import Keys\n",
    "from selenium.webdriver.common.by import By\n",
    "from selenium.webdriver.support.ui import WebDriverWait\n",
    "from selenium.webdriver.support import expected_conditions as EC\n",
    "import time\n",
    "import lxml\n",
    "import pandas as pd"
   ]
  },
  {
   "cell_type": "code",
   "execution_count": 2,
   "id": "1b88dff4",
   "metadata": {},
   "outputs": [],
   "source": [
    "PATH = 'chromedriver'\n",
    "browser = webdriver.Chrome(PATH)"
   ]
  },
  {
   "cell_type": "code",
   "execution_count": 3,
   "id": "de7fef47",
   "metadata": {},
   "outputs": [],
   "source": [
    "cityList = ['Delhi','Mumbai','Bangalore']\n",
    "specialityList = ['Dentist','Gynecologist','Pediatrician','Orthopedist','Dermatologist',\n",
    "                  'Physiotherapist','Infertility%20Specialist','ophthalmologist%2F%20eye%20surgeon','Urologist',\n",
    "                  'Psychiatrist','Cardiologist','dietitian%2Fnutritionist','Gastroenterologist','Neurologist',\n",
    "                  'Neurosurgeon','Pulmonologist','Bariatric%20Surgeon','Rheumatologist','Chiropractor']"
   ]
  },
  {
   "cell_type": "code",
   "execution_count": 4,
   "id": "63a6dba0",
   "metadata": {},
   "outputs": [],
   "source": [
    "df = pd.DataFrame(columns=['Name', 'Speciality', 'Degree', 'Experience', 'Locality', 'City', 'Score', 'NumberOfReviews', 'NumberOfStories', 'Fee'])"
   ]
  },
  {
   "cell_type": "code",
   "execution_count": 5,
   "id": "706686cc",
   "metadata": {},
   "outputs": [],
   "source": [
    "def openSearch(city, speciality):\n",
    "    link = r'https://www.practo.com/search/doctors?results_type=doctor&q=%5B%7B%22word%22%3A%22'+speciality+r'%22%2C%22autocompleted%22%3Atrue%2C%22category%22%3A%22subspeciality%22%7D%5D&city='+city\n",
    "    browser.get(link)"
   ]
  },
  {
   "cell_type": "code",
   "execution_count": 6,
   "id": "db94deeb",
   "metadata": {},
   "outputs": [],
   "source": [
    "def scrollDown():\n",
    "    initialLength = browser.execute_script(\"return document.body.scrollHeight\")\n",
    "    while True:\n",
    "        browserHeight = int(browser.execute_script(\"return document.body.scrollHeight\"))\n",
    "        y = browserHeight - 1400\n",
    "        script = \"window.scrollTo(0,\"+str(y)+\");\"\n",
    "        browser.execute_script(script)\n",
    "        time.sleep(8)\n",
    "\n",
    "        finalLength = browser.execute_script(\"return document.body.scrollHeight\")\n",
    "        if finalLength==initialLength:\n",
    "            break\n",
    "        initialLength = finalLength"
   ]
  },
  {
   "cell_type": "code",
   "execution_count": 7,
   "id": "b10aedfd",
   "metadata": {},
   "outputs": [],
   "source": [
    "def getProfile(card):\n",
    "    try:\n",
    "        link = card.find_element(By.XPATH, \".//div[@class = 'info-section']/a[1]\").get_attribute('href')\n",
    "    except:\n",
    "        return '',0\n",
    "    browser.execute_script(\"window.open('');\")\n",
    "    browser.switch_to.window(browser.window_handles[-1])\n",
    "    browser.get(link)\n",
    "    try:\n",
    "        Degree = browser.find_element(By.XPATH, \".//p[@data-qa-id='doctor-qualifications']\").text\n",
    "    except:\n",
    "        Degree = ''\n",
    "    try:\n",
    "        NumberOfReview = browser.find_element(By.XPATH, \".//p[@data-qa-id='doctor-patient-experience-score']/span[2]\").text.split()[0][1:]\n",
    "    except:\n",
    "        NumberOfReview = 0\n",
    "\n",
    "    browser.close()\n",
    "    browser.switch_to.window(browser.window_handles[0])\n",
    "    return Degree,NumberOfReview"
   ]
  },
  {
   "cell_type": "code",
   "execution_count": 8,
   "id": "91f61634",
   "metadata": {},
   "outputs": [],
   "source": [
    "def getData():\n",
    "    cards = browser.find_elements(By.XPATH, \"//div[@class='listing-doctor-card']\")\n",
    "    for card in cards:\n",
    "        try:\n",
    "            name = card.find_element(By.XPATH, \".//h2[@data-qa-id='doctor_name']\").text\n",
    "        except:\n",
    "            name = ''\n",
    "        print(name)\n",
    "        try:\n",
    "            Speciality = card.find_element(By.XPATH, \".//div[@class='u-d-flex']/span\").text\n",
    "        except:\n",
    "            Speciality = ''\n",
    "        print(Speciality)\n",
    "        Degree,NumberOfReview = getProfile(card)\n",
    "        print(Degree)\n",
    "        try:\n",
    "            Experience = card.find_element(By.XPATH, \".//div[@data-qa-id='doctor_experience']/div\").text.split()[0]\n",
    "        except:\n",
    "            Experience = 0\n",
    "        print(Experience)\n",
    "        try:\n",
    "            Locality = card.find_element(By.XPATH, \".//span[@data-qa-id='practice_locality']\").text[:-1]\n",
    "        except:\n",
    "            Locality = ''\n",
    "        print(Locality)\n",
    "        try:\n",
    "            City = card.find_element(By.XPATH, \".//span[@data-qa-id='practice_city']\").text\n",
    "        except:\n",
    "            City = ''\n",
    "        print(City)\n",
    "        try:\n",
    "            Score = card.find_element(By.XPATH, \".//span[@data-qa-id='doctor_recommendation']\").text[:-1]\n",
    "        except:\n",
    "            Score = 0\n",
    "        print(Score)\n",
    "        print(NumberOfReview)\n",
    "        try:\n",
    "            NumberOfStories = card.find_element(By.XPATH, \".//span[@data-qa-id='total_feedback']\").text.split()[0]\n",
    "        except:\n",
    "            NumberOfStories = 0\n",
    "        print(NumberOfStories)\n",
    "        try:\n",
    "            Fee = card.find_element(By.XPATH, \".//span[@data-qa-id='consultation_fee']\").text[1:]\n",
    "        except:\n",
    "            Fee = 0\n",
    "        print(Fee)\n",
    "        global df\n",
    "        df = df.append({'Name' : name, \n",
    "                        'Speciality' : Speciality, \n",
    "                        'Degree' : Degree,\n",
    "                        'Experience' : Experience,\n",
    "                        'Locality' : Locality,\n",
    "                        'City' : City,\n",
    "                        'Score' : Score,\n",
    "                        'NumberOfReviews' : NumberOfReview,\n",
    "                        'NumberOfStories' : NumberOfStories,\n",
    "                        'Fee' : Fee},\n",
    "        ignore_index = True)"
   ]
  },
  {
   "cell_type": "code",
   "execution_count": 9,
   "id": "ebacf842",
   "metadata": {},
   "outputs": [
    {
     "name": "stdout",
     "output_type": "stream",
     "text": [
      "353\n"
     ]
    },
    {
     "ename": "NoSuchWindowException",
     "evalue": "Message: no such window: target window already closed\nfrom unknown error: web view not found\n  (Session info: chrome=108.0.5359.125)\nStacktrace:\nBacktrace:\n\tOrdinal0 [0x013FACD3+2075859]\n\tOrdinal0 [0x0138EE61+1633889]\n\tOrdinal0 [0x0128B7BD+571325]\n\tOrdinal0 [0x01272E1A+470554]\n\tOrdinal0 [0x012DAA0B+895499]\n\tOrdinal0 [0x012EAC96+961686]\n\tOrdinal0 [0x012D7136+880950]\n\tOrdinal0 [0x012AFEFD+720637]\n\tOrdinal0 [0x012B0F3F+724799]\n\tGetHandleVerifier [0x016AEED2+2769538]\n\tGetHandleVerifier [0x016A0D95+2711877]\n\tGetHandleVerifier [0x0148A03A+521194]\n\tGetHandleVerifier [0x01488DA0+516432]\n\tOrdinal0 [0x0139682C+1665068]\n\tOrdinal0 [0x0139B128+1683752]\n\tOrdinal0 [0x0139B215+1683989]\n\tOrdinal0 [0x013A6484+1729668]\n\tBaseThreadInitThunk [0x778F6A24+36]\n\tRtlInitializeExceptionChain [0x77C1A9FF+143]\n\tRtlInitializeExceptionChain [0x77C1A9CA+90]\n",
     "output_type": "error",
     "traceback": [
      "\u001b[1;31m---------------------------------------------------------------------------\u001b[0m",
      "\u001b[1;31mNoSuchWindowException\u001b[0m                     Traceback (most recent call last)",
      "Input \u001b[1;32mIn [9]\u001b[0m, in \u001b[0;36m<cell line: 1>\u001b[1;34m()\u001b[0m\n\u001b[0;32m      7\u001b[0m \u001b[38;5;28;01mexcept\u001b[39;00m:\n\u001b[0;32m      8\u001b[0m     \u001b[38;5;28;01mcontinue\u001b[39;00m\n\u001b[1;32m----> 9\u001b[0m \u001b[43mscrollDown\u001b[49m\u001b[43m(\u001b[49m\u001b[43m)\u001b[49m\n\u001b[0;32m     10\u001b[0m getData()\n\u001b[0;32m     11\u001b[0m df\u001b[38;5;241m.\u001b[39mto_csv(\u001b[38;5;124mr\u001b[39m\u001b[38;5;124m'\u001b[39m\u001b[38;5;124mD:\u001b[39m\u001b[38;5;124m\\\u001b[39m\u001b[38;5;124mDoctorsData.csv\u001b[39m\u001b[38;5;124m'\u001b[39m,index\u001b[38;5;241m=\u001b[39m\u001b[38;5;28;01mFalse\u001b[39;00m)\n",
      "Input \u001b[1;32mIn [6]\u001b[0m, in \u001b[0;36mscrollDown\u001b[1;34m()\u001b[0m\n\u001b[0;32m      7\u001b[0m browser\u001b[38;5;241m.\u001b[39mexecute_script(script)\n\u001b[0;32m      8\u001b[0m time\u001b[38;5;241m.\u001b[39msleep(\u001b[38;5;241m8\u001b[39m)\n\u001b[1;32m---> 10\u001b[0m finalLength \u001b[38;5;241m=\u001b[39m \u001b[43mbrowser\u001b[49m\u001b[38;5;241;43m.\u001b[39;49m\u001b[43mexecute_script\u001b[49m\u001b[43m(\u001b[49m\u001b[38;5;124;43m\"\u001b[39;49m\u001b[38;5;124;43mreturn document.body.scrollHeight\u001b[39;49m\u001b[38;5;124;43m\"\u001b[39;49m\u001b[43m)\u001b[49m\n\u001b[0;32m     11\u001b[0m \u001b[38;5;28;01mif\u001b[39;00m finalLength\u001b[38;5;241m==\u001b[39minitialLength:\n\u001b[0;32m     12\u001b[0m     \u001b[38;5;28;01mbreak\u001b[39;00m\n",
      "File \u001b[1;32m~\\anaconda3\\lib\\site-packages\\selenium\\webdriver\\remote\\webdriver.py:492\u001b[0m, in \u001b[0;36mWebDriver.execute_script\u001b[1;34m(self, script, *args)\u001b[0m\n\u001b[0;32m    489\u001b[0m converted_args \u001b[38;5;241m=\u001b[39m \u001b[38;5;28mlist\u001b[39m(args)\n\u001b[0;32m    490\u001b[0m command \u001b[38;5;241m=\u001b[39m Command\u001b[38;5;241m.\u001b[39mW3C_EXECUTE_SCRIPT\n\u001b[1;32m--> 492\u001b[0m \u001b[38;5;28;01mreturn\u001b[39;00m \u001b[38;5;28;43mself\u001b[39;49m\u001b[38;5;241;43m.\u001b[39;49m\u001b[43mexecute\u001b[49m\u001b[43m(\u001b[49m\u001b[43mcommand\u001b[49m\u001b[43m,\u001b[49m\u001b[43m \u001b[49m\u001b[43m{\u001b[49m\n\u001b[0;32m    493\u001b[0m \u001b[43m    \u001b[49m\u001b[38;5;124;43m'\u001b[39;49m\u001b[38;5;124;43mscript\u001b[39;49m\u001b[38;5;124;43m'\u001b[39;49m\u001b[43m:\u001b[49m\u001b[43m \u001b[49m\u001b[43mscript\u001b[49m\u001b[43m,\u001b[49m\n\u001b[0;32m    494\u001b[0m \u001b[43m    \u001b[49m\u001b[38;5;124;43m'\u001b[39;49m\u001b[38;5;124;43margs\u001b[39;49m\u001b[38;5;124;43m'\u001b[39;49m\u001b[43m:\u001b[49m\u001b[43m \u001b[49m\u001b[43mconverted_args\u001b[49m\u001b[43m}\u001b[49m\u001b[43m)\u001b[49m[\u001b[38;5;124m'\u001b[39m\u001b[38;5;124mvalue\u001b[39m\u001b[38;5;124m'\u001b[39m]\n",
      "File \u001b[1;32m~\\anaconda3\\lib\\site-packages\\selenium\\webdriver\\remote\\webdriver.py:429\u001b[0m, in \u001b[0;36mWebDriver.execute\u001b[1;34m(self, driver_command, params)\u001b[0m\n\u001b[0;32m    427\u001b[0m response \u001b[38;5;241m=\u001b[39m \u001b[38;5;28mself\u001b[39m\u001b[38;5;241m.\u001b[39mcommand_executor\u001b[38;5;241m.\u001b[39mexecute(driver_command, params)\n\u001b[0;32m    428\u001b[0m \u001b[38;5;28;01mif\u001b[39;00m response:\n\u001b[1;32m--> 429\u001b[0m     \u001b[38;5;28;43mself\u001b[39;49m\u001b[38;5;241;43m.\u001b[39;49m\u001b[43merror_handler\u001b[49m\u001b[38;5;241;43m.\u001b[39;49m\u001b[43mcheck_response\u001b[49m\u001b[43m(\u001b[49m\u001b[43mresponse\u001b[49m\u001b[43m)\u001b[49m\n\u001b[0;32m    430\u001b[0m     response[\u001b[38;5;124m'\u001b[39m\u001b[38;5;124mvalue\u001b[39m\u001b[38;5;124m'\u001b[39m] \u001b[38;5;241m=\u001b[39m \u001b[38;5;28mself\u001b[39m\u001b[38;5;241m.\u001b[39m_unwrap_value(\n\u001b[0;32m    431\u001b[0m         response\u001b[38;5;241m.\u001b[39mget(\u001b[38;5;124m'\u001b[39m\u001b[38;5;124mvalue\u001b[39m\u001b[38;5;124m'\u001b[39m, \u001b[38;5;28;01mNone\u001b[39;00m))\n\u001b[0;32m    432\u001b[0m     \u001b[38;5;28;01mreturn\u001b[39;00m response\n",
      "File \u001b[1;32m~\\anaconda3\\lib\\site-packages\\selenium\\webdriver\\remote\\errorhandler.py:243\u001b[0m, in \u001b[0;36mErrorHandler.check_response\u001b[1;34m(self, response)\u001b[0m\n\u001b[0;32m    241\u001b[0m         alert_text \u001b[38;5;241m=\u001b[39m value[\u001b[38;5;124m'\u001b[39m\u001b[38;5;124malert\u001b[39m\u001b[38;5;124m'\u001b[39m]\u001b[38;5;241m.\u001b[39mget(\u001b[38;5;124m'\u001b[39m\u001b[38;5;124mtext\u001b[39m\u001b[38;5;124m'\u001b[39m)\n\u001b[0;32m    242\u001b[0m     \u001b[38;5;28;01mraise\u001b[39;00m exception_class(message, screen, stacktrace, alert_text)  \u001b[38;5;66;03m# type: ignore[call-arg]  # mypy is not smart enough here\u001b[39;00m\n\u001b[1;32m--> 243\u001b[0m \u001b[38;5;28;01mraise\u001b[39;00m exception_class(message, screen, stacktrace)\n",
      "\u001b[1;31mNoSuchWindowException\u001b[0m: Message: no such window: target window already closed\nfrom unknown error: web view not found\n  (Session info: chrome=108.0.5359.125)\nStacktrace:\nBacktrace:\n\tOrdinal0 [0x013FACD3+2075859]\n\tOrdinal0 [0x0138EE61+1633889]\n\tOrdinal0 [0x0128B7BD+571325]\n\tOrdinal0 [0x01272E1A+470554]\n\tOrdinal0 [0x012DAA0B+895499]\n\tOrdinal0 [0x012EAC96+961686]\n\tOrdinal0 [0x012D7136+880950]\n\tOrdinal0 [0x012AFEFD+720637]\n\tOrdinal0 [0x012B0F3F+724799]\n\tGetHandleVerifier [0x016AEED2+2769538]\n\tGetHandleVerifier [0x016A0D95+2711877]\n\tGetHandleVerifier [0x0148A03A+521194]\n\tGetHandleVerifier [0x01488DA0+516432]\n\tOrdinal0 [0x0139682C+1665068]\n\tOrdinal0 [0x0139B128+1683752]\n\tOrdinal0 [0x0139B215+1683989]\n\tOrdinal0 [0x013A6484+1729668]\n\tBaseThreadInitThunk [0x778F6A24+36]\n\tRtlInitializeExceptionChain [0x77C1A9FF+143]\n\tRtlInitializeExceptionChain [0x77C1A9CA+90]\n"
     ]
    }
   ],
   "source": [
    "for city in cityList:\n",
    "    for speciality in specialityList:\n",
    "        openSearch(city,speciality)\n",
    "        try:\n",
    "            totalDoctors = int(browser.find_element(By.XPATH, \"//h1[@class='u-xx-large-font u-bold']\").text.split()[0])\n",
    "            print(totalDoctors)\n",
    "        except:\n",
    "            continue\n",
    "        scrollDown()\n",
    "        getData()\n",
    "        df.to_csv(r'D:\\DoctorsData.csv',index=False)\n",
    "\n",
    "time.sleep(10)"
   ]
  },
  {
   "cell_type": "code",
   "execution_count": null,
   "id": "c6e8e55d",
   "metadata": {},
   "outputs": [],
   "source": []
  }
 ],
 "metadata": {
  "kernelspec": {
   "display_name": "Python 3 (ipykernel)",
   "language": "python",
   "name": "python3"
  },
  "language_info": {
   "codemirror_mode": {
    "name": "ipython",
    "version": 3
   },
   "file_extension": ".py",
   "mimetype": "text/x-python",
   "name": "python",
   "nbconvert_exporter": "python",
   "pygments_lexer": "ipython3",
   "version": "3.9.12"
  }
 },
 "nbformat": 4,
 "nbformat_minor": 5
}
