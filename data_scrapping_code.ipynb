{
 "cells": [
  {
   "cell_type": "code",
   "execution_count": null,
   "id": "8040eba2",
   "metadata": {},
   "outputs": [],
   "source": [
    "from bs4 import BeautifulSoup\n",
    "from selenium import webdriver\n",
    "from selenium.webdriver.common.keys import Keys\n",
    "from selenium.webdriver.common.by import By\n",
    "from selenium.webdriver.support.ui import WebDriverWait\n",
    "from selenium.webdriver.support import expected_conditions as EC\n",
    "import time\n",
    "import lxml\n",
    "import pandas as pd"
   ]
  },
  {
   "cell_type": "code",
   "execution_count": null,
   "id": "1b88dff4",
   "metadata": {},
   "outputs": [],
   "source": [
    "PATH = 'chromedriver'\n",
    "browser = webdriver.Chrome(PATH)"
   ]
  },
  {
   "cell_type": "code",
   "execution_count": null,
   "id": "de7fef47",
   "metadata": {},
   "outputs": [],
   "source": [
    "cityList = ['Delhi','Mumbai','Bangalore']\n",
    "specialityList = ['Dentist','Gynecologist','Pediatrician','Orthopedist','Dermatologist',\n",
    "                  'Physiotherapist','Infertility%20Specialist','ophthalmologist%2F%20eye%20surgeon','Urologist',\n",
    "                  'Psychiatrist','Cardiologist','dietitian%2Fnutritionist','Gastroenterologist','Neurologist',\n",
    "                  'Neurosurgeon','Pulmonologist','Bariatric%20Surgeon','Rheumatologist','Chiropractor']"
   ]
  },
  {
   "cell_type": "code",
   "execution_count": null,
   "id": "63a6dba0",
   "metadata": {},
   "outputs": [],
   "source": [
    "df = pd.DataFrame(columns=['Name', 'Speciality', 'Degree', 'Experience', 'Locality', 'City', 'Score', 'NumberOfReviews', 'NumberOfStories', 'Fee'])"
   ]
  },
  {
   "cell_type": "code",
   "execution_count": null,
   "id": "706686cc",
   "metadata": {},
   "outputs": [],
   "source": [
    "def openSearch(city, speciality):\n",
    "    link = r'https://www.practo.com/search/doctors?results_type=doctor&q=%5B%7B%22word%22%3A%22'+speciality+r'%22%2C%22autocompleted%22%3Atrue%2C%22category%22%3A%22subspeciality%22%7D%5D&city='+city\n",
    "    browser.get(link)"
   ]
  },
  {
   "cell_type": "code",
   "execution_count": null,
   "id": "db94deeb",
   "metadata": {},
   "outputs": [],
   "source": [
    "def scrollDown():\n",
    "    initialLength = browser.execute_script(\"return document.body.scrollHeight\")\n",
    "    while True:\n",
    "        browserHeight = int(browser.execute_script(\"return document.body.scrollHeight\"))\n",
    "        y = browserHeight - 1400\n",
    "        script = \"window.scrollTo(0,\"+str(y)+\");\"\n",
    "        browser.execute_script(script)\n",
    "        time.sleep(8)\n",
    "\n",
    "        finalLength = browser.execute_script(\"return document.body.scrollHeight\")\n",
    "        if finalLength==initialLength:\n",
    "            break\n",
    "        initialLength = finalLength"
   ]
  },
  {
   "cell_type": "code",
   "execution_count": null,
   "id": "b10aedfd",
   "metadata": {},
   "outputs": [],
   "source": [
    "def getProfile(card):\n",
    "    try:\n",
    "        link = card.find_element(By.XPATH, \".//div[@class = 'info-section']/a[1]\").get_attribute('href')\n",
    "    except:\n",
    "        return '',0\n",
    "    browser.execute_script(\"window.open('');\")\n",
    "    browser.switch_to.window(browser.window_handles[-1])\n",
    "    browser.get(link)\n",
    "    try:\n",
    "        Degree = browser.find_element(By.XPATH, \".//p[@data-qa-id='doctor-qualifications']\").text\n",
    "    except:\n",
    "        Degree = ''\n",
    "    try:\n",
    "        NumberOfReview = browser.find_element(By.XPATH, \".//p[@data-qa-id='doctor-patient-experience-score']/span[2]\").text.split()[0][1:]\n",
    "    except:\n",
    "        NumberOfReview = 0\n",
    "\n",
    "    browser.close()\n",
    "    browser.switch_to.window(browser.window_handles[0])\n",
    "    return Degree,NumberOfReview"
   ]
  },
  {
   "cell_type": "code",
   "execution_count": null,
   "id": "91f61634",
   "metadata": {},
   "outputs": [],
   "source": [
    "def getData():\n",
    "    cards = browser.find_elements(By.XPATH, \"//div[@class='listing-doctor-card']\")\n",
    "    for card in cards:\n",
    "        try:\n",
    "            name = card.find_element(By.XPATH, \".//h2[@data-qa-id='doctor_name']\").text\n",
    "        except:\n",
    "            name = ''\n",
    "        print(name)\n",
    "        try:\n",
    "            Speciality = card.find_element(By.XPATH, \".//div[@class='u-d-flex']/span\").text\n",
    "        except:\n",
    "            Speciality = ''\n",
    "        print(Speciality)\n",
    "        Degree,NumberOfReview = getProfile(card)\n",
    "        print(Degree)\n",
    "        try:\n",
    "            Experience = card.find_element(By.XPATH, \".//div[@data-qa-id='doctor_experience']/div\").text.split()[0]\n",
    "        except:\n",
    "            Experience = 0\n",
    "        print(Experience)\n",
    "        try:\n",
    "            Locality = card.find_element(By.XPATH, \".//span[@data-qa-id='practice_locality']\").text[:-1]\n",
    "        except:\n",
    "            Locality = ''\n",
    "        print(Locality)\n",
    "        try:\n",
    "            City = card.find_element(By.XPATH, \".//span[@data-qa-id='practice_city']\").text\n",
    "        except:\n",
    "            City = ''\n",
    "        print(City)\n",
    "        try:\n",
    "            Score = card.find_element(By.XPATH, \".//span[@data-qa-id='doctor_recommendation']\").text[:-1]\n",
    "        except:\n",
    "            Score = 0\n",
    "        print(Score)\n",
    "        print(NumberOfReview)\n",
    "        try:\n",
    "            NumberOfStories = card.find_element(By.XPATH, \".//span[@data-qa-id='total_feedback']\").text.split()[0]\n",
    "        except:\n",
    "            NumberOfStories = 0\n",
    "        print(NumberOfStories)\n",
    "        try:\n",
    "            Fee = card.find_element(By.XPATH, \".//span[@data-qa-id='consultation_fee']\").text[1:]\n",
    "        except:\n",
    "            Fee = 0\n",
    "        print(Fee)\n",
    "        global df\n",
    "        df = df.append({'Name' : name, \n",
    "                        'Speciality' : Speciality, \n",
    "                        'Degree' : Degree,\n",
    "                        'Experience' : Experience,\n",
    "                        'Locality' : Locality,\n",
    "                        'City' : City,\n",
    "                        'Score' : Score,\n",
    "                        'NumberOfReviews' : NumberOfReview,\n",
    "                        'NumberOfStories' : NumberOfStories,\n",
    "                        'Fee' : Fee},\n",
    "        ignore_index = True)"
   ]
  },
  {
   "cell_type": "code",
   "execution_count": null,
   "id": "ebacf842",
   "metadata": {},
   "outputs": [],
   "source": [
    "for city in cityList:\n",
    "    for speciality in specialityList:\n",
    "        openSearch(city,speciality)\n",
    "        try:\n",
    "            totalDoctors = int(browser.find_element(By.XPATH, \"//h1[@class='u-xx-large-font u-bold']\").text.split()[0])\n",
    "            print(totalDoctors)\n",
    "        except:\n",
    "            continue\n",
    "        scrollDown()\n",
    "        getData()\n",
    "        df.to_csv(r'D:\\DoctorsData.csv',index=False)\n",
    "\n",
    "time.sleep(10)"
   ]
  },
  {
   "cell_type": "code",
   "execution_count": null,
   "id": "c6e8e55d",
   "metadata": {},
   "outputs": [],
   "source": []
  }
 ],
 "metadata": {
  "kernelspec": {
   "display_name": "Python 3 (ipykernel)",
   "language": "python",
   "name": "python3"
  },
  "language_info": {
   "codemirror_mode": {
    "name": "ipython",
    "version": 3
   },
   "file_extension": ".py",
   "mimetype": "text/x-python",
   "name": "python",
   "nbconvert_exporter": "python",
   "pygments_lexer": "ipython3",
   "version": "3.9.12"
  }
 },
 "nbformat": 4,
 "nbformat_minor": 5
}
